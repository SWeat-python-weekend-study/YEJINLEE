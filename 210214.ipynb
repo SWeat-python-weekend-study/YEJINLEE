{
  "nbformat": 4,
  "nbformat_minor": 0,
  "metadata": {
    "colab": {
      "name": "210214.ipynb",
      "provenance": [],
      "include_colab_link": true
    },
    "kernelspec": {
      "name": "python3",
      "display_name": "Python 3"
    }
  },
  "cells": [
    {
      "cell_type": "markdown",
      "metadata": {
        "id": "view-in-github",
        "colab_type": "text"
      },
      "source": [
        "<a href=\"https://colab.research.google.com/github/SWeat-python-weekend-study/YEJINLEE/blob/lesson1/210214.ipynb\" target=\"_parent\"><img src=\"https://colab.research.google.com/assets/colab-badge.svg\" alt=\"Open In Colab\"/></a>"
      ]
    },
    {
      "cell_type": "markdown",
      "metadata": {
        "id": "Kd5NW6jInvAB"
      },
      "source": [
        "**0. Colab**\r\n"
      ]
    },
    {
      "cell_type": "markdown",
      "metadata": {
        "id": "92YNQ4ikoN7o"
      },
      "source": [
        "- <스스로> 마크다운 실습\r\n",
        "\r\n",
        "- 마크다운 연습"
      ]
    },
    {
      "cell_type": "code",
      "metadata": {
        "id": "J4PITutpovRx"
      },
      "source": [
        "!pwd"
      ],
      "execution_count": null,
      "outputs": []
    },
    {
      "cell_type": "code",
      "metadata": {
        "id": "VVwWj__A-02I"
      },
      "source": [
        "!ls"
      ],
      "execution_count": null,
      "outputs": []
    },
    {
      "cell_type": "markdown",
      "metadata": {
        "id": "40VuYJCsCgH8"
      },
      "source": [
        "**1. iterator**\r\n",
        "- iterable: 반복 가능한 객체  \r\n",
        "ex) 문자열, 리스트, 딕셔너리, 집합  \r\n",
        " 요소가 여러개 들어있고, 한 번에 하나씩 꺼낼 수 있는 객체  \r\n",
        "  \r\n",
        "- \\_\\_iter__ 메서드가 해당 객체에 있는지 확인\r\n",
        "\r\n",
        "\r\n"
      ]
    },
    {
      "cell_type": "code",
      "metadata": {
        "id": "xL0Wy8nwCkaB"
      },
      "source": [
        "dir([1,2,3])"
      ],
      "execution_count": null,
      "outputs": []
    },
    {
      "cell_type": "code",
      "metadata": {
        "id": "Seq22FxZED_y"
      },
      "source": [
        "[1, 2, 3].__iter__()"
      ],
      "execution_count": null,
      "outputs": []
    },
    {
      "cell_type": "markdown",
      "metadata": {
        "id": "03bEx3WeEkFo"
      },
      "source": [
        "\r\n",
        "\r\n",
        "---\r\n",
        "\r\n"
      ]
    },
    {
      "cell_type": "code",
      "metadata": {
        "id": "yHhgKdnaEPVb"
      },
      "source": [
        "it = [1, 2, 3].__iter__() #리스트의 이터레이터를 it 변수에 저장 후 __next__ 메서드 호출"
      ],
      "execution_count": null,
      "outputs": []
    },
    {
      "cell_type": "code",
      "metadata": {
        "id": "NhJviSOBEW1F"
      },
      "source": [
        "it.__next__()"
      ],
      "execution_count": null,
      "outputs": []
    },
    {
      "cell_type": "code",
      "metadata": {
        "id": "wpCgno5REYTb"
      },
      "source": [
        "it.__next__()"
      ],
      "execution_count": null,
      "outputs": []
    },
    {
      "cell_type": "code",
      "metadata": {
        "id": "cIYp0RHSEZW_"
      },
      "source": [
        "it.__next__()"
      ],
      "execution_count": null,
      "outputs": []
    },
    {
      "cell_type": "code",
      "metadata": {
        "id": "H0WUnqJLEajN"
      },
      "source": [
        "it.__next__() #더 이상 꺼낼 요소가 없으므로 StopIteration Exception 발생"
      ],
      "execution_count": null,
      "outputs": []
    },
    {
      "cell_type": "markdown",
      "metadata": {
        "id": "ulPiDxY8EnA2"
      },
      "source": [
        "\r\n",
        "\r\n",
        "---\r\n",
        "\r\n"
      ]
    },
    {
      "cell_type": "code",
      "metadata": {
        "id": "4qgLNDMKEn1M"
      },
      "source": [
        "'Hello, world!'.__iter__()"
      ],
      "execution_count": null,
      "outputs": []
    },
    {
      "cell_type": "code",
      "metadata": {
        "id": "AMwFuE3MExQu"
      },
      "source": [
        "{'a': 1, 'b': 2}.__iter__()"
      ],
      "execution_count": null,
      "outputs": []
    },
    {
      "cell_type": "code",
      "metadata": {
        "id": "VAT2FFb6Ezqm"
      },
      "source": [
        "{1, 2, 3}.__iter__()"
      ],
      "execution_count": null,
      "outputs": []
    },
    {
      "cell_type": "markdown",
      "metadata": {
        "id": "6y-FsYT1E2ps"
      },
      "source": [
        "\r\n",
        "\r\n",
        "---\r\n",
        "\r\n"
      ]
    },
    {
      "cell_type": "code",
      "metadata": {
        "id": "ZivClKH8E38V"
      },
      "source": [
        "it = range(3).__iter__()"
      ],
      "execution_count": null,
      "outputs": []
    },
    {
      "cell_type": "code",
      "metadata": {
        "id": "O08jvvNZE64-"
      },
      "source": [
        "it.__next__()"
      ],
      "execution_count": null,
      "outputs": []
    },
    {
      "cell_type": "code",
      "metadata": {
        "id": "VAcdtOfAE7QU"
      },
      "source": [
        "it.__next__()"
      ],
      "execution_count": null,
      "outputs": []
    },
    {
      "cell_type": "code",
      "metadata": {
        "id": "NRNd2dluE7k0"
      },
      "source": [
        "it.__next__()"
      ],
      "execution_count": null,
      "outputs": []
    },
    {
      "cell_type": "code",
      "metadata": {
        "id": "7e1LVArOE9fK"
      },
      "source": [
        "it.__next__()"
      ],
      "execution_count": null,
      "outputs": []
    },
    {
      "cell_type": "markdown",
      "metadata": {
        "id": "obudCleDGA29"
      },
      "source": [
        "**2. Generator**\r\n",
        "\r\n",
        "- generator: iterator를 생성해주는 함수  \r\n",
        "generator는 함수 안에서 yield라는 키워드만 사용하면 됨\r\n",
        "- iterator보다 간단"
      ]
    },
    {
      "cell_type": "code",
      "metadata": {
        "id": "avYPvcnOGjJI"
      },
      "source": [
        "def number_generator():\r\n",
        "    yield 0\r\n",
        "    yield 1\r\n",
        "    yield 2\r\n",
        " \r\n",
        "for i in number_generator():\r\n",
        "    print(i)"
      ],
      "execution_count": null,
      "outputs": []
    },
    {
      "cell_type": "code",
      "metadata": {
        "id": "PudO8DEdGnG4"
      },
      "source": [
        "def g ():\r\n",
        "  print('one')\r\n",
        "  yield 1 #첫번째 next 호출 시 여기까지 처리\r\n",
        "  print('two')\r\n",
        "  yield 2 #두번째 next 호출 시 여기까지 처리\r\n",
        "  print('three')\r\n",
        "  yield 3 #세번째 next 호출 시 여기까지 처리\r\n",
        "\r\n",
        "_ = g()\r\n",
        "next(_)\r\n",
        "next(_)\r\n",
        "next(_)"
      ],
      "execution_count": null,
      "outputs": []
    },
    {
      "cell_type": "code",
      "metadata": {
        "id": "HSsicq3IHJBS"
      },
      "source": [
        "#반복문 처리 시 활용\r\n",
        "def g():\r\n",
        "  A = [1,2,3,4,5]\r\n",
        "  for _ in A:\r\n",
        "    yield _\r\n",
        "\r\n",
        "for _ in g():\r\n",
        "  print( _ * 2)"
      ],
      "execution_count": null,
      "outputs": []
    },
    {
      "cell_type": "markdown",
      "metadata": {
        "id": "gl32tx5GIbvg"
      },
      "source": [
        "\r\n",
        "\r\n",
        "---\r\n",
        "\r\n"
      ]
    },
    {
      "cell_type": "code",
      "metadata": {
        "id": "TaPj6IWIIcq8"
      },
      "source": [
        "g = number_generator()\r\n",
        "g"
      ],
      "execution_count": null,
      "outputs": []
    },
    {
      "cell_type": "code",
      "metadata": {
        "id": "XQdD2eKMIgNU"
      },
      "source": [
        "g.__next__()"
      ],
      "execution_count": null,
      "outputs": []
    },
    {
      "cell_type": "code",
      "metadata": {
        "id": "tzsFc0XKIhxv"
      },
      "source": [
        "g.__next__()"
      ],
      "execution_count": null,
      "outputs": []
    },
    {
      "cell_type": "code",
      "metadata": {
        "id": "eiZndpQeIivH"
      },
      "source": [
        "g.__next__()"
      ],
      "execution_count": null,
      "outputs": []
    },
    {
      "cell_type": "code",
      "metadata": {
        "id": "ch5Par4dIlA5"
      },
      "source": [
        "g.__next__()"
      ],
      "execution_count": null,
      "outputs": []
    },
    {
      "cell_type": "markdown",
      "metadata": {
        "id": "WO6d1hVqI1Pb"
      },
      "source": [
        "- yield를 사용하면 값을 함수 바깥으로 전달하면서 코드 실행을 함수 바깥에 양보"
      ]
    },
    {
      "cell_type": "markdown",
      "metadata": {
        "id": "X4rQZNx3JMVT"
      },
      "source": [
        "**3. 한 줄 조건문**"
      ]
    },
    {
      "cell_type": "code",
      "metadata": {
        "id": "ZV7-pjIZI7X7"
      },
      "source": [
        "def confirm(x):\r\n",
        "  return '1입니다' if x==1 else\\\r\n",
        "          '5입니다' if x==5 else\\\r\n",
        "          '1도 5도 아닙니다'"
      ],
      "execution_count": null,
      "outputs": []
    },
    {
      "cell_type": "code",
      "metadata": {
        "id": "aqVlFIgBJ0cH"
      },
      "source": [
        "confirm(1)"
      ],
      "execution_count": null,
      "outputs": []
    },
    {
      "cell_type": "code",
      "metadata": {
        "id": "8pB7VoWPJ3jo",
        "outputId": "b68559cc-f85e-4047-eaa9-1737948d9f9b",
        "colab": {
          "base_uri": "https://localhost:8080/",
          "height": 169
        }
      },
      "source": [
        "confirm(3)"
      ],
      "execution_count": 1,
      "outputs": [
        {
          "output_type": "error",
          "ename": "NameError",
          "evalue": "ignored",
          "traceback": [
            "\u001b[0;31m---------------------------------------------------------------------------\u001b[0m",
            "\u001b[0;31mNameError\u001b[0m                                 Traceback (most recent call last)",
            "\u001b[0;32m<ipython-input-1-0ab14d3bc277>\u001b[0m in \u001b[0;36m<module>\u001b[0;34m()\u001b[0m\n\u001b[0;32m----> 1\u001b[0;31m \u001b[0mconfirm\u001b[0m\u001b[0;34m(\u001b[0m\u001b[0;36m3\u001b[0m\u001b[0;34m)\u001b[0m\u001b[0;34m\u001b[0m\u001b[0;34m\u001b[0m\u001b[0m\n\u001b[0m",
            "\u001b[0;31mNameError\u001b[0m: name 'confirm' is not defined"
          ]
        }
      ]
    },
    {
      "cell_type": "code",
      "metadata": {
        "id": "5I-1xgCvJ47c"
      },
      "source": [
        "confirm(5)"
      ],
      "execution_count": null,
      "outputs": []
    },
    {
      "cell_type": "markdown",
      "metadata": {
        "id": "CJg7bMneKC8E"
      },
      "source": [
        "**4. 리스트**"
      ]
    },
    {
      "cell_type": "markdown",
      "metadata": {
        "id": "hMqA6hYnKI1W"
      },
      "source": [
        "- 리스트 기본  \r\n",
        "[ ] 대괄호 안에 쉽표, 구분자로 분리"
      ]
    },
    {
      "cell_type": "code",
      "metadata": {
        "id": "JAwtJBogKMU0"
      },
      "source": [
        "A = [1,2,3,4,5]"
      ],
      "execution_count": null,
      "outputs": []
    },
    {
      "cell_type": "markdown",
      "metadata": {
        "id": "jXseLfABKZqc"
      },
      "source": [
        "- 리스트는 추가하고 삭제 가능"
      ]
    },
    {
      "cell_type": "code",
      "metadata": {
        "id": "23ca_didKcLZ"
      },
      "source": [
        "A.append(6)\r\n",
        "A"
      ],
      "execution_count": null,
      "outputs": []
    },
    {
      "cell_type": "code",
      "metadata": {
        "id": "9sCAriE-KgVe"
      },
      "source": [
        "del(A[0])\r\n",
        "A"
      ],
      "execution_count": null,
      "outputs": []
    },
    {
      "cell_type": "markdown",
      "metadata": {
        "id": "ZoQYBAXoKpJG"
      },
      "source": [
        "- 리스트 슬라이싱"
      ]
    },
    {
      "cell_type": "code",
      "metadata": {
        "id": "ssraydeJKm1z"
      },
      "source": [
        "A = [1,2,3,4,5]\r\n",
        "A[:2]"
      ],
      "execution_count": null,
      "outputs": []
    },
    {
      "cell_type": "markdown",
      "metadata": {
        "id": "YZtNU67ZKzLf"
      },
      "source": [
        "**5. 리스트 표현식**"
      ]
    },
    {
      "cell_type": "code",
      "metadata": {
        "id": "9ztgdUrpK9Vk"
      },
      "source": [
        "A = list(range(10)) # [0,1,2,3,4,5,6,7,8,9] 할당"
      ],
      "execution_count": null,
      "outputs": []
    },
    {
      "cell_type": "code",
      "metadata": {
        "id": "uaMx5XI2LOZC"
      },
      "source": [
        "#파이썬에서 _ 문자를 변수명으로 사용 가능함 . 쓰고 버리는 의미 없는 임시변수 표현"
      ],
      "execution_count": null,
      "outputs": []
    },
    {
      "cell_type": "code",
      "metadata": {
        "id": "yS_TcZywLQAy"
      },
      "source": [
        "B = [_ for _ in A]\r\n",
        "# B = [x for x in A]\r\n",
        "B"
      ],
      "execution_count": null,
      "outputs": []
    },
    {
      "cell_type": "code",
      "metadata": {
        "id": "xsscCpR_Lqt3"
      },
      "source": [
        "C =[x for x in A if x > 5 ] # [6,7,8,9] 할당 = 5 보다 큰 값 할당 필터링 역할\r\n",
        "C"
      ],
      "execution_count": null,
      "outputs": []
    },
    {
      "cell_type": "markdown",
      "metadata": {
        "id": "IOS8Bg2nMMm7"
      },
      "source": [
        "\r\n",
        "\r\n",
        "---\r\n",
        "\r\n"
      ]
    },
    {
      "cell_type": "code",
      "metadata": {
        "id": "rcRJW5mNMHEL"
      },
      "source": [
        "D = [x for x in A if x > 5 and x % 2 == 0 ]\r\n",
        "D"
      ],
      "execution_count": null,
      "outputs": []
    },
    {
      "cell_type": "markdown",
      "metadata": {
        "id": "vq4NguC-MtdH"
      },
      "source": [
        "**6. 함수**"
      ]
    },
    {
      "cell_type": "code",
      "metadata": {
        "id": "U5_HCtF6MYxe"
      },
      "source": [
        "# F(n) = F(n-1) + F(n-2) 단, n > 2일 경우\r\n",
        "\r\n",
        "def F(n):\r\n",
        "  if n <= 2:\r\n",
        "    return 1\r\n",
        "  else:\r\n",
        "    return F(n-1) + F(n-2) # 재귀(recursive)"
      ],
      "execution_count": null,
      "outputs": []
    },
    {
      "cell_type": "code",
      "metadata": {
        "id": "vdbxbtv9NBGa"
      },
      "source": [
        "R = [F(n) for n in range(1, 10)]\r\n",
        "print(R) #F(1)에서 F(9)까지 구하기"
      ],
      "execution_count": null,
      "outputs": []
    },
    {
      "cell_type": "markdown",
      "metadata": {
        "id": "Jh2el3OANd8Z"
      },
      "source": [
        "**7. 람다(lambda) 함수**\r\n",
        "- 익명함수(Anonymous Function)\r\n",
        "- 함수 정의를 한 줄로 생략하는 방식"
      ]
    },
    {
      "cell_type": "code",
      "metadata": {
        "id": "BvKJeMBHNhI0"
      },
      "source": [
        "A =lambda x : x*2\r\n",
        "A(5) #10 값\r\n",
        "\r\n",
        "def lamb(x):\r\n",
        "  return x*2"
      ],
      "execution_count": 6,
      "outputs": []
    },
    {
      "cell_type": "code",
      "metadata": {
        "id": "0C79zrtsQcnF"
      },
      "source": [
        "F = lambda n : F(n-1) + F(n-2) if n > 2 else 1\r\n",
        "R = [F(n) for n in range(1,10)]\r\n",
        "print(R) #[1, 1, 2, 3, 5, 8, 13, 21, 34]"
      ],
      "execution_count": null,
      "outputs": []
    },
    {
      "cell_type": "code",
      "metadata": {
        "id": "eYPsgVaBQ71_"
      },
      "source": [
        "A = lambda x : x * 2\r\n",
        "B = lambda x : x * 3\r\n",
        "C = lambda x : x * 4\r\n",
        "D = lambda x : x * 5\r\n",
        "\r\n",
        "L = [A,B,C,D]\r\n",
        "\r\n",
        "for f in L:\r\n",
        "  print(f(2))"
      ],
      "execution_count": null,
      "outputs": []
    },
    {
      "cell_type": "code",
      "metadata": {
        "id": "4DGzMdEWRPLc"
      },
      "source": [
        "F = lambda n : [f(n) for f in L]\r\n",
        "F(2)"
      ],
      "execution_count": null,
      "outputs": []
    },
    {
      "cell_type": "markdown",
      "metadata": {
        "id": "JyeOM6MxROcc"
      },
      "source": [
        "- <스스로>48페이지 예제 해보기"
      ]
    },
    {
      "cell_type": "code",
      "metadata": {
        "id": "WPZ4hep8LaLo"
      },
      "source": [
        "def process(string, code):\r\n",
        "  func_dict={'U':lambda x : x.upper(),\r\n",
        "             'L':lambda x : x.lower(),\r\n",
        "             'C':lambda x : x.capitalize()}\r\n",
        "  F=func_dict[code]\r\n",
        "  return F(String)"
      ],
      "execution_count": 24,
      "outputs": []
    },
    {
      "cell_type": "code",
      "metadata": {
        "id": "AlmmFk72MHU1"
      },
      "source": [
        "def process(string,code) :\r\n",
        "  return {'U':lambda x : x.upper(),\r\n",
        "             'L':lambda x : x.lower(),\r\n",
        "             'C':lambda x : x.capitalize()\r\n",
        "             }[code](string)\r\n"
      ],
      "execution_count": 25,
      "outputs": []
    },
    {
      "cell_type": "code",
      "metadata": {
        "id": "ulMggqlOMRXH",
        "outputId": "5ed27462-6248-4dbc-d0fe-70e11506a8fd",
        "colab": {
          "base_uri": "https://localhost:8080/",
          "height": 35
        }
      },
      "source": [
        "process('hello','U')\r\n",
        "process('HELLO','L')\r\n",
        "process('hello','C')"
      ],
      "execution_count": 26,
      "outputs": [
        {
          "output_type": "execute_result",
          "data": {
            "application/vnd.google.colaboratory.intrinsic+json": {
              "type": "string"
            },
            "text/plain": [
              "'Hello'"
            ]
          },
          "metadata": {
            "tags": []
          },
          "execution_count": 26
        }
      ]
    },
    {
      "cell_type": "markdown",
      "metadata": {
        "id": "Bz_p6rPdTD2K"
      },
      "source": [
        "**8. \\***args 와 \\****kwargs 이용한 람다**\r\n",
        "- *args 표현식  \r\n",
        ": 함수의 매개변수 * 문자는 임의의 복수의 매개변수가 오는 것으로 정의\r\n",
        "- **kwargs 표현식  \r\n",
        ": 함수의 매개변수에 ** 문자는 임의의 key=value 형태의 복수의 매개변수가 오는 것으로 정의\r\n"
      ]
    },
    {
      "cell_type": "code",
      "metadata": {
        "id": "kmOsR7JMTx-_"
      },
      "source": [
        "F = lambda * x : ''.join(x) # 문자열을 붙여주는 함수\r\n",
        "F('파이썬', '코딩', '쉽네') # '파이썬코딩쉽네'"
      ],
      "execution_count": null,
      "outputs": []
    },
    {
      "cell_type": "code",
      "metadata": {
        "id": "krOjP8OZUBT-"
      },
      "source": [
        "F = lambda **x : [(v,k) for k, v in x.items()] #key, value를 서로 바꿔서 dictionary 생성\r\n",
        "D = F(A='파이썬', B='코딩', C='쉽네') #dict 생성\r\n",
        "print(D)\r\n",
        "\r\n",
        "D = dict(D)\r\n",
        "print(D['파이썬'])\r\n"
      ],
      "execution_count": null,
      "outputs": []
    },
    {
      "cell_type": "markdown",
      "metadata": {
        "id": "SrhsIPhUXGi_"
      },
      "source": [
        "\r\n",
        "\r\n",
        "---\r\n",
        "\r\n"
      ]
    },
    {
      "cell_type": "code",
      "metadata": {
        "id": "seFUZvfQWVXB"
      },
      "source": [
        "F = lambda **x : sum(x['data']) if 'type' in x and x['type'] == 'sum' else 0"
      ],
      "execution_count": null,
      "outputs": []
    },
    {
      "cell_type": "code",
      "metadata": {
        "id": "b4dtmR0nWgYC"
      },
      "source": [
        "F(type='sum', data=[1,2,3,4])"
      ],
      "execution_count": null,
      "outputs": []
    },
    {
      "cell_type": "code",
      "metadata": {
        "id": "Otxl5b5bW8d9"
      },
      "source": [
        "F(data=[1,2,3,4,5])"
      ],
      "execution_count": null,
      "outputs": []
    },
    {
      "cell_type": "code",
      "metadata": {
        "id": "3kYxqB_kW-SZ"
      },
      "source": [
        "F(type='mul', data=[1,2,3,4,5])"
      ],
      "execution_count": null,
      "outputs": []
    },
    {
      "cell_type": "markdown",
      "metadata": {
        "id": "x8-FAeaaXI-V"
      },
      "source": [
        "**9. 파일 입출력**"
      ]
    },
    {
      "cell_type": "markdown",
      "metadata": {
        "id": "OLHXVRBwXV5m"
      },
      "source": [
        "- student 파일 읽기 예제"
      ]
    },
    {
      "cell_type": "code",
      "metadata": {
        "id": "5TJNq7EEX1gg",
        "outputId": "aafca895-c350-42d4-adac-dd69d8a44287",
        "colab": {
          "base_uri": "https://localhost:8080/"
        }
      },
      "source": [
        "with open('student.txt', 'r', encoding='euc-kr') as fr:\r\n",
        "  print(fr.readline())"
      ],
      "execution_count": 7,
      "outputs": [
        {
          "output_type": "stream",
          "text": [
            "태서연;54;72;60;78\n",
            "\n"
          ],
          "name": "stdout"
        }
      ]
    },
    {
      "cell_type": "markdown",
      "metadata": {
        "id": "KQEdEn4DY4sL"
      },
      "source": [
        "- 이름(첫 번째)를 제외한 **숫자 문자열**들만 추출"
      ]
    },
    {
      "cell_type": "code",
      "metadata": {
        "id": "NhsdIykmYGRl",
        "outputId": "53776315-daa8-4410-c2e4-f48aa18299f5",
        "colab": {
          "base_uri": "https://localhost:8080/"
        }
      },
      "source": [
        "F = lambda x : x.split(';')[1:]\r\n",
        "F('태서연;54;72;60;78')"
      ],
      "execution_count": 8,
      "outputs": [
        {
          "output_type": "execute_result",
          "data": {
            "text/plain": [
              "['54', '72', '60', '78']"
            ]
          },
          "metadata": {
            "tags": []
          },
          "execution_count": 8
        }
      ]
    },
    {
      "cell_type": "code",
      "metadata": {
        "id": "8naBCARtYwj0",
        "outputId": "7a03c7ea-fbb6-4253-910f-2def0c2f30c5",
        "colab": {
          "base_uri": "https://localhost:8080/"
        }
      },
      "source": [
        "F = lambda x : x.split(';')\r\n",
        "F('태서연;54;72;60;78')"
      ],
      "execution_count": 9,
      "outputs": [
        {
          "output_type": "execute_result",
          "data": {
            "text/plain": [
              "['태서연', '54', '72', '60', '78']"
            ]
          },
          "metadata": {
            "tags": []
          },
          "execution_count": 9
        }
      ]
    },
    {
      "cell_type": "markdown",
      "metadata": {
        "id": "IWsNEPtXZB4v"
      },
      "source": [
        "- 입력 문자열을 숫자로만 추출하기(list comprehension)"
      ]
    },
    {
      "cell_type": "code",
      "metadata": {
        "id": "2LZvQBNDZFV2",
        "outputId": "84b40dc2-9e33-4af8-9eab-a4fd5934ff9b",
        "colab": {
          "base_uri": "https://localhost:8080/"
        }
      },
      "source": [
        "F = lambda x : [int(i) for i in x.split(';')[1:]]\r\n",
        "F('태서연;54;72;60;78')"
      ],
      "execution_count": 10,
      "outputs": [
        {
          "output_type": "execute_result",
          "data": {
            "text/plain": [
              "[54, 72, 60, 78]"
            ]
          },
          "metadata": {
            "tags": []
          },
          "execution_count": 10
        }
      ]
    },
    {
      "cell_type": "markdown",
      "metadata": {
        "id": "xDAGircnZzzK"
      },
      "source": [
        "- 입력 문자열을 합계"
      ]
    },
    {
      "cell_type": "code",
      "metadata": {
        "id": "emVNFioGZRwr",
        "outputId": "cb5e8a26-dc9c-4599-88b4-25508f310082",
        "colab": {
          "base_uri": "https://localhost:8080/"
        }
      },
      "source": [
        "F = lambda x : sum([int(i) for i in x.split(';')[1:]])\r\n",
        "F('태서연;54;72;60;78')"
      ],
      "execution_count": 11,
      "outputs": [
        {
          "output_type": "execute_result",
          "data": {
            "text/plain": [
              "264"
            ]
          },
          "metadata": {
            "tags": []
          },
          "execution_count": 11
        }
      ]
    },
    {
      "cell_type": "markdown",
      "metadata": {
        "id": "lHWBaFnLZ-IY"
      },
      "source": [
        "- 이름, 과목별 점수 합계 리턴"
      ]
    },
    {
      "cell_type": "code",
      "metadata": {
        "id": "U-dfGaM8aAaq",
        "outputId": "7dc0dc7f-a622-4816-e461-7ace57b95cd8",
        "colab": {
          "base_uri": "https://localhost:8080/"
        }
      },
      "source": [
        "F = lambda x : (x.split(';')[0], sum([int(i) for i in x.split(';')[1:]]))\r\n",
        "name, total = F('태서연;54;72;60;78')\r\n",
        "print(name, total)"
      ],
      "execution_count": 12,
      "outputs": [
        {
          "output_type": "stream",
          "text": [
            "태서연 264\n"
          ],
          "name": "stdout"
        }
      ]
    },
    {
      "cell_type": "markdown",
      "metadata": {
        "id": "pXM_edmyaS7z"
      },
      "source": [
        "- 입력 문자열을 미리 split 하여서 리스트로 넘긴다고 가정"
      ]
    },
    {
      "cell_type": "code",
      "metadata": {
        "id": "TzXf_5Kya4bW",
        "outputId": "c5b62886-556c-4161-d44e-6ee9c864be85",
        "colab": {
          "base_uri": "https://localhost:8080/"
        }
      },
      "source": [
        "F = lambda L : [int(x) for x in L[1:]]\r\n",
        "F('태서연;54;72;60;78'.split(';'))"
      ],
      "execution_count": 13,
      "outputs": [
        {
          "output_type": "execute_result",
          "data": {
            "text/plain": [
              "[54, 72, 60, 78]"
            ]
          },
          "metadata": {
            "tags": []
          },
          "execution_count": 13
        }
      ]
    },
    {
      "cell_type": "markdown",
      "metadata": {
        "id": "y0PsavSPaYMg"
      },
      "source": [
        "- 이름, 점수 합계를 리턴하는 방법"
      ]
    },
    {
      "cell_type": "code",
      "metadata": {
        "id": "5JrhJUubbHx7"
      },
      "source": [
        "F = lambda L : (L[0], sum([int(x) for x in L[1:]]))\r\n",
        "\r\n",
        "name, total = F('태서연;54;72;60;78'.split(';'))\r\n",
        "\r\n",
        "print(name, total)"
      ],
      "execution_count": null,
      "outputs": []
    },
    {
      "cell_type": "markdown",
      "metadata": {
        "id": "uPZ8H3oHadjU"
      },
      "source": [
        "- 타입별(이름, 합계), (이름, 평균)을 나타내는 함수"
      ]
    },
    {
      "cell_type": "code",
      "metadata": {
        "id": "kIvesDZ6bXZR"
      },
      "source": [
        "F = lambda L, T : (L[0], sum([int(x) for x in L[1:]])) if T==\"sum\" else\\\r\n",
        "                  (L[0], sum([int(x) for x in L[1:]])/len(L[1:])) if T==\"avg\" else\\\r\n",
        "                  (L[0], None)\r\n",
        "name, value = F('태서연;54;72;60;78'.split(';'), \"sum\")\r\n",
        "print(name, value)"
      ],
      "execution_count": null,
      "outputs": []
    },
    {
      "cell_type": "code",
      "metadata": {
        "id": "UaUISnNhcCwg"
      },
      "source": [
        "name, value = F('태서연;54;72;60;78'.split(';'), \"avg\")\r\n",
        "print(name, value)"
      ],
      "execution_count": null,
      "outputs": []
    },
    {
      "cell_type": "code",
      "metadata": {
        "id": "AAtwXd57cIzV"
      },
      "source": [
        "name, value = F('태서연;54;72;60;78'.split(';'), \"mul\")\r\n",
        "print(name, value)"
      ],
      "execution_count": null,
      "outputs": []
    },
    {
      "cell_type": "markdown",
      "metadata": {
        "id": "bTALua5hcQ7G"
      },
      "source": [
        "- 파일을 읽어서 이름;합계;평균을 내는 student_result 파일로 저장"
      ]
    },
    {
      "cell_type": "code",
      "metadata": {
        "id": "f0snxEL0cWAV"
      },
      "source": [
        "with open('student.txt', 'r', encoding='euc-kr') as fr, open('student_result.txt', 'w') as fw:\r\n",
        "  for line in fr:\r\n",
        "    name, total_sum = F(line.split(';'), 'sum')\r\n",
        "    name, total_avg = F(line.split(';'), 'avg')\r\n",
        "\r\n",
        "    #문자열 앞에 f를 붙이면 문자열 내부에 {}를 이용하여 변수를 바인딩 할 수 있음.  f-string\r\n",
        "    result = f\"{name};{total_sum};{total_avg}\\n\"\r\n",
        "    fw.write(result)"
      ],
      "execution_count": null,
      "outputs": []
    },
    {
      "cell_type": "markdown",
      "metadata": {
        "id": "Krp1HvKgdKj0"
      },
      "source": [
        "- student_result 파일에 저장된 내용 확인"
      ]
    },
    {
      "cell_type": "code",
      "metadata": {
        "id": "K1jopXfPc8uu"
      },
      "source": [
        "with open('student_result.txt') as fr:\r\n",
        "  print(fr.readline())\r\n",
        "  print(fr.readline())\r\n",
        "  print(fr.readline())"
      ],
      "execution_count": null,
      "outputs": []
    },
    {
      "cell_type": "markdown",
      "metadata": {
        "id": "qhaeKDXidcgA"
      },
      "source": [
        "**10. 데이터를 json파일/텍스트로 변환**"
      ]
    },
    {
      "cell_type": "code",
      "metadata": {
        "id": "qiN_zYzrdscw",
        "outputId": "45e66db0-5aca-4fb2-8029-73833655a86c",
        "colab": {
          "base_uri": "https://localhost:8080/"
        }
      },
      "source": [
        "import json\r\n",
        "person_dict = {}\r\n",
        "\r\n",
        "with open('student.txt', 'r', encoding='euc-kr') as fr:\r\n",
        "  for line in fr:\r\n",
        "    data = line.strip().split(';') #불필요 공백 제거 후 문자로 문자열 분리\r\n",
        "    name = data[0]\r\n",
        "\r\n",
        "    # kor, eng, mat, sci = int(data[1]), int(data[2]), int(data[3]), int(data[4])\r\n",
        "    kor, eng, mat, sci = (int(x) for x in data[1:])\r\n",
        "    person_dict[name] = {'국어':kor, '영어':eng, '수학':mat, '과학':sci}\r\n",
        "\r\n",
        "with open('student_json', 'w') as fw:\r\n",
        "  json.dump(person_dict, fw, ensure_ascii=False, indent=4) #딕셔너리를 JSON으로 변환하여 파일로 저장\r\n",
        "\r\n",
        "json_data = json.dumps(person_dict)\r\n",
        "print(json_data)\r\n",
        "\r\n"
      ],
      "execution_count": 14,
      "outputs": [
        {
          "output_type": "stream",
          "text": [
            "{\"\\ud0dc\\uc11c\\uc5f0\": {\"\\uad6d\\uc5b4\": 54, \"\\uc601\\uc5b4\": 72, \"\\uc218\\ud559\": 60, \"\\uacfc\\ud559\": 78}, \"\\ubc15\\uc11c\\uc724\": {\"\\uad6d\\uc5b4\": 62, \"\\uc601\\uc5b4\": 78, \"\\uc218\\ud559\": 16, \"\\uacfc\\ud559\": 81}, \"\\uc815\\uc9c0\\uc6b0\": {\"\\uad6d\\uc5b4\": 66, \"\\uc601\\uc5b4\": 72, \"\\uc218\\ud559\": 32, \"\\uacfc\\ud559\": 74}, \"\\uc815\\uc11c\\ud604\": {\"\\uad6d\\uc5b4\": 56, \"\\uc601\\uc5b4\": 80, \"\\uc218\\ud559\": 67, \"\\uacfc\\ud559\": 85}, \"\\ubc15\\ubbfc\\uc11c\": {\"\\uad6d\\uc5b4\": 64, \"\\uc601\\uc5b4\": 92, \"\\uc218\\ud559\": 11, \"\\uacfc\\ud559\": 66}, \"\\uc774\\ud558\\uc740\": {\"\\uad6d\\uc5b4\": 85, \"\\uc601\\uc5b4\": 35, \"\\uc218\\ud559\": 71, \"\\uacfc\\ud559\": 90}, \"\\uc815\\ud558\\uc724\": {\"\\uad6d\\uc5b4\": 51, \"\\uc601\\uc5b4\": 26, \"\\uc218\\ud559\": 36, \"\\uacfc\\ud559\": 63}, \"\\ubc15\\uc724\\uc11c\": {\"\\uad6d\\uc5b4\": 77, \"\\uc601\\uc5b4\": 84, \"\\uc218\\ud559\": 32, \"\\uacfc\\ud559\": 93}, \"\\uc815\\uc9c0\\ubbfc\": {\"\\uad6d\\uc5b4\": 73, \"\\uc601\\uc5b4\": 28, \"\\uc218\\ud559\": 66, \"\\uacfc\\ud559\": 70}, \"\\ubc15\\uc9c0\\uc720\": {\"\\uad6d\\uc5b4\": 51, \"\\uc601\\uc5b4\": 34, \"\\uc218\\ud559\": 55, \"\\uacfc\\ud559\": 63}, \"\\uae40\\ucc44\\uc6d0\": {\"\\uad6d\\uc5b4\": 77, \"\\uc601\\uc5b4\": 72, \"\\uc218\\ud559\": 29, \"\\uacfc\\ud559\": 75}, \"\\uae40\\uc9c0\\uc724\": {\"\\uad6d\\uc5b4\": 78, \"\\uc601\\uc5b4\": 27, \"\\uc218\\ud559\": 41, \"\\uacfc\\ud559\": 67}, \"\\ubc15\\uc740\\uc11c\": {\"\\uad6d\\uc5b4\": 61, \"\\uc601\\uc5b4\": 52, \"\\uc218\\ud559\": 38, \"\\uacfc\\ud559\": 65}, \"\\uae40\\uc218\\uc544\": {\"\\uad6d\\uc5b4\": 51, \"\\uc601\\uc5b4\": 32, \"\\uc218\\ud559\": 26, \"\\uacfc\\ud559\": 91}, \"\\uc815\\ub2e4\\uc740\": {\"\\uad6d\\uc5b4\": 59, \"\\uc601\\uc5b4\": 50, \"\\uc218\\ud559\": 63, \"\\uacfc\\ud559\": 71}, \"\\ubc15\\uc608\\uc740\": {\"\\uad6d\\uc5b4\": 73, \"\\uc601\\uc5b4\": 29, \"\\uc218\\ud559\": 78, \"\\uacfc\\ud559\": 99}, \"\\ud0dc\\uc218\\ube48\": {\"\\uad6d\\uc5b4\": 51, \"\\uc601\\uc5b4\": 34, \"\\uc218\\ud559\": 44, \"\\uacfc\\ud559\": 76}, \"\\uc774\\uc9c0\\uc544\": {\"\\uad6d\\uc5b4\": 53, \"\\uc601\\uc5b4\": 32, \"\\uc218\\ud559\": 56, \"\\uacfc\\ud559\": 70}, \"\\uc815\\uc18c\\uc728\": {\"\\uad6d\\uc5b4\": 55, \"\\uc601\\uc5b4\": 54, \"\\uc218\\ud559\": 28, \"\\uacfc\\ud559\": 94}, \"\\uc815\\uc608\\uc6d0\": {\"\\uad6d\\uc5b4\": 65, \"\\uc601\\uc5b4\": 74, \"\\uc218\\ud559\": 75, \"\\uacfc\\ud559\": 99}, \"\\uae40\\uc608\\ub9b0\": {\"\\uad6d\\uc5b4\": 94, \"\\uc601\\uc5b4\": 93, \"\\uc218\\ud559\": 72, \"\\uacfc\\ud559\": 81}, \"\\uc774\\uc9c0\\uc6d0\": {\"\\uad6d\\uc5b4\": 61, \"\\uc601\\uc5b4\": 41, \"\\uc218\\ud559\": 32, \"\\uacfc\\ud559\": 100}, \"\\ud0dc\\uc18c\\uc724\": {\"\\uad6d\\uc5b4\": 87, \"\\uc601\\uc5b4\": 23, \"\\uc218\\ud559\": 86, \"\\uacfc\\ud559\": 97}, \"\\uc774\\uc9c0\\uc548\": {\"\\uad6d\\uc5b4\": 53, \"\\uc601\\uc5b4\": 38, \"\\uc218\\ud559\": 57, \"\\uacfc\\ud559\": 66}, \"\\ud0dc\\uc720\\uc9c4\": {\"\\uad6d\\uc5b4\": 81, \"\\uc601\\uc5b4\": 68, \"\\uc218\\ud559\": 83, \"\\uacfc\\ud559\": 66}, \"\\ubc15\\uc2dc\\uc740\": {\"\\uad6d\\uc5b4\": 84, \"\\uc601\\uc5b4\": 94, \"\\uc218\\ud559\": 56, \"\\uacfc\\ud559\": 63}, \"\\uc815\\ud558\\ub9b0\": {\"\\uad6d\\uc5b4\": 86, \"\\uc601\\uc5b4\": 29, \"\\uc218\\ud559\": 32, \"\\uacfc\\ud559\": 78}, \"\\uc815\\ucc44\\uc740\": {\"\\uad6d\\uc5b4\": 93, \"\\uc601\\uc5b4\": 47, \"\\uc218\\ud559\": 44, \"\\uacfc\\ud559\": 93}, \"\\uc815\\uac00\\uc740\": {\"\\uad6d\\uc5b4\": 76, \"\\uc601\\uc5b4\": 34, \"\\uc218\\ud559\": 12, \"\\uacfc\\ud559\": 60}, \"\\uae40\\uc724\\uc544\": {\"\\uad6d\\uc5b4\": 79, \"\\uc601\\uc5b4\": 31, \"\\uc218\\ud559\": 75, \"\\uacfc\\ud559\": 79}, \"\\uc815\\uc11c\\uc601\": {\"\\uad6d\\uc5b4\": 54, \"\\uc601\\uc5b4\": 52, \"\\uc218\\ud559\": 32, \"\\uacfc\\ud559\": 62}, \"\\uc815\\uc720\\ub098\": {\"\\uad6d\\uc5b4\": 91, \"\\uc601\\uc5b4\": 25, \"\\uc218\\ud559\": 42, \"\\uacfc\\ud559\": 77}, \"\\uc815\\ubbfc\\uc9c0\": {\"\\uad6d\\uc5b4\": 74, \"\\uc601\\uc5b4\": 55, \"\\uc218\\ud559\": 23, \"\\uacfc\\ud559\": 74}, \"\\uae40\\uc608\\uc9c4\": {\"\\uad6d\\uc5b4\": 86, \"\\uc601\\uc5b4\": 27, \"\\uc218\\ud559\": 56, \"\\uacfc\\ud559\": 79}, \"\\ubc15\\uc218\\ubbfc\": {\"\\uad6d\\uc5b4\": 58, \"\\uc601\\uc5b4\": 59, \"\\uc218\\ud559\": 71, \"\\uacfc\\ud559\": 64}, \"\\uc774\\uc218\\uc5f0\": {\"\\uad6d\\uc5b4\": 98, \"\\uc601\\uc5b4\": 81, \"\\uc218\\ud559\": 31, \"\\uacfc\\ud559\": 94}, \"\\ud0dc\\uc5f0\\uc6b0\": {\"\\uad6d\\uc5b4\": 67, \"\\uc601\\uc5b4\": 76, \"\\uc218\\ud559\": 41, \"\\uacfc\\ud559\": 64}, \"\\ud0dc\\uc11c\\uc544\": {\"\\uad6d\\uc5b4\": 73, \"\\uc601\\uc5b4\": 27, \"\\uc218\\ud559\": 52, \"\\uacfc\\ud559\": 100}, \"\\ubc15\\uc608\\ub098\": {\"\\uad6d\\uc5b4\": 61, \"\\uc601\\uc5b4\": 67, \"\\uc218\\ud559\": 81, \"\\uacfc\\ud559\": 63}, \"\\ud0dc\\uc608\\uc11c\": {\"\\uad6d\\uc5b4\": 79, \"\\uc601\\uc5b4\": 68, \"\\uc218\\ud559\": 51, \"\\uacfc\\ud559\": 80}, \"\\uc815\\uc8fc\\uc544\": {\"\\uad6d\\uc5b4\": 83, \"\\uc601\\uc5b4\": 95, \"\\uc218\\ud559\": 44, \"\\uacfc\\ud559\": 93}, \"\\uae40\\uc2dc\\uc5f0\": {\"\\uad6d\\uc5b4\": 92, \"\\uc601\\uc5b4\": 95, \"\\uc218\\ud559\": 37, \"\\uacfc\\ud559\": 85}, \"\\ud0dc\\uc5f0\\uc11c\": {\"\\uad6d\\uc5b4\": 80, \"\\uc601\\uc5b4\": 35, \"\\uc218\\ud559\": 60, \"\\uacfc\\ud559\": 83}, \"\\ud0dc\\ud558\\uc728\": {\"\\uad6d\\uc5b4\": 92, \"\\uc601\\uc5b4\": 98, \"\\uc218\\ud559\": 17, \"\\uacfc\\ud559\": 82}, \"\\ubc15\\ub2e4\\uc778\": {\"\\uad6d\\uc5b4\": 66, \"\\uc601\\uc5b4\": 54, \"\\uc218\\ud559\": 25, \"\\uacfc\\ud559\": 100}, \"\\ubc15\\ub2e4\\uc5f0\": {\"\\uad6d\\uc5b4\": 70, \"\\uc601\\uc5b4\": 73, \"\\uc218\\ud559\": 32, \"\\uacfc\\ud559\": 70}, \"\\uae40\\ud604\\uc11c\": {\"\\uad6d\\uc5b4\": 72, \"\\uc601\\uc5b4\": 68, \"\\uc218\\ud559\": 25, \"\\uacfc\\ud559\": 75}, \"\\uae40\\uc544\\uc778\": {\"\\uad6d\\uc5b4\": 95, \"\\uc601\\uc5b4\": 52, \"\\uc218\\ud559\": 61, \"\\uacfc\\ud559\": 60}, \"\\ubc15\\uc11c\\uc740\": {\"\\uad6d\\uc5b4\": 89, \"\\uc601\\uc5b4\": 83, \"\\uc218\\ud559\": 38, \"\\uacfc\\ud559\": 88}, \"\\ud0dc\\uc2dc\\uc544\": {\"\\uad6d\\uc5b4\": 51, \"\\uc601\\uc5b4\": 91, \"\\uc218\\ud559\": 17, \"\\uacfc\\ud559\": 88}, \"\\uc815\\uc720\\uc8fc\": {\"\\uad6d\\uc5b4\": 87, \"\\uc601\\uc5b4\": 72, \"\\uc218\\ud559\": 45, \"\\uacfc\\ud559\": 62}, \"\\uc774\\uc11c\\uc9c4\": {\"\\uad6d\\uc5b4\": 61, \"\\uc601\\uc5b4\": 73, \"\\uc218\\ud559\": 35, \"\\uacfc\\ud559\": 69}, \"\\uc815\\uc720\\ube48\": {\"\\uad6d\\uc5b4\": 77, \"\\uc601\\uc5b4\": 56, \"\\uc218\\ud559\": 82, \"\\uacfc\\ud559\": 84}, \"\\ubc15\\ud558\\uc5f0\": {\"\\uad6d\\uc5b4\": 82, \"\\uc601\\uc5b4\": 25, \"\\uc218\\ud559\": 28, \"\\uacfc\\ud559\": 62}, \"\\uc815\\ucc44\\uc724\": {\"\\uad6d\\uc5b4\": 54, \"\\uc601\\uc5b4\": 32, \"\\uc218\\ud559\": 48, \"\\uacfc\\ud559\": 92}, \"\\uae40\\uc11c\\uc6b0\": {\"\\uad6d\\uc5b4\": 88, \"\\uc601\\uc5b4\": 45, \"\\uc218\\ud559\": 47, \"\\uacfc\\ud559\": 83}, \"\\uc774\\uc11c\\uc728\": {\"\\uad6d\\uc5b4\": 81, \"\\uc601\\uc5b4\": 52, \"\\uc218\\ud559\": 95, \"\\uacfc\\ud559\": 81}, \"\\uc815\\uc218\\ud604\": {\"\\uad6d\\uc5b4\": 51, \"\\uc601\\uc5b4\": 41, \"\\uc218\\ud559\": 71, \"\\uacfc\\ud559\": 95}, \"\\uc774\\uc9c0\\uc728\": {\"\\uad6d\\uc5b4\": 87, \"\\uc601\\uc5b4\": 72, \"\\uc218\\ud559\": 49, \"\\uacfc\\ud559\": 77}, \"\\ubc15\\uc544\\ub9b0\": {\"\\uad6d\\uc5b4\": 58, \"\\uc601\\uc5b4\": 36, \"\\uc218\\ud559\": 55, \"\\uacfc\\ud559\": 92}, \"\\uc815\\ub098\\uc724\": {\"\\uad6d\\uc5b4\": 71, \"\\uc601\\uc5b4\": 94, \"\\uc218\\ud559\": 81, \"\\uacfc\\ud559\": 70}, \"\\ubc15\\uc608\\uc9c0\": {\"\\uad6d\\uc5b4\": 57, \"\\uc601\\uc5b4\": 42, \"\\uc218\\ud559\": 46, \"\\uacfc\\ud559\": 95}, \"\\ubc15\\ub2e4\\ud604\": {\"\\uad6d\\uc5b4\": 66, \"\\uc601\\uc5b4\": 99, \"\\uc218\\ud559\": 31, \"\\uacfc\\ud559\": 72}, \"\\uc774\\ubbfc\\uc8fc\": {\"\\uad6d\\uc5b4\": 76, \"\\uc601\\uc5b4\": 83, \"\\uc218\\ud559\": 24, \"\\uacfc\\ud559\": 70}, \"\\ud0dc\\uc9c0\\uc740\": {\"\\uad6d\\uc5b4\": 98, \"\\uc601\\uc5b4\": 68, \"\\uc218\\ud559\": 25, \"\\uacfc\\ud559\": 92}, \"\\uc774\\ub098\\uc5f0\": {\"\\uad6d\\uc5b4\": 77, \"\\uc601\\uc5b4\": 95, \"\\uc218\\ud559\": 65, \"\\uacfc\\ud559\": 99}, \"\\ubc15\\uc18c\\uc740\": {\"\\uad6d\\uc5b4\": 79, \"\\uc601\\uc5b4\": 73, \"\\uc218\\ud559\": 38, \"\\uacfc\\ud559\": 86}, \"\\uc774\\uc2dc\\ud604\": {\"\\uad6d\\uc5b4\": 81, \"\\uc601\\uc5b4\": 96, \"\\uc218\\ud559\": 48, \"\\uacfc\\ud559\": 72}, \"\\uc774\\uc724\\uc9c0\": {\"\\uad6d\\uc5b4\": 100, \"\\uc601\\uc5b4\": 80, \"\\uc218\\ud559\": 25, \"\\uacfc\\ud559\": 77}, \"\\ubc15\\uc0ac\\ub791\": {\"\\uad6d\\uc5b4\": 66, \"\\uc601\\uc5b4\": 71, \"\\uc218\\ud559\": 72, \"\\uacfc\\ud559\": 68}, \"\\uae40\\uc608\\ube48\": {\"\\uad6d\\uc5b4\": 79, \"\\uc601\\uc5b4\": 79, \"\\uc218\\ud559\": 27, \"\\uacfc\\ud559\": 98}, \"\\ubc15\\uc9c0\\ud604\": {\"\\uad6d\\uc5b4\": 65, \"\\uc601\\uc5b4\": 23, \"\\uc218\\ud559\": 81, \"\\uacfc\\ud559\": 89}, \"\\ubc15\\uc18c\\uc5f0\": {\"\\uad6d\\uc5b4\": 56, \"\\uc601\\uc5b4\": 57, \"\\uc218\\ud559\": 35, \"\\uacfc\\ud559\": 66}, \"\\uc815\\ub098\\uc740\": {\"\\uad6d\\uc5b4\": 99, \"\\uc601\\uc5b4\": 45, \"\\uc218\\ud559\": 41, \"\\uacfc\\ud559\": 90}, \"\\ud0dc\\uc11c\\ud558\": {\"\\uad6d\\uc5b4\": 57, \"\\uc601\\uc5b4\": 57, \"\\uc218\\ud559\": 80, \"\\uacfc\\ud559\": 78}, \"\\uc774\\ud61c\\uc6d0\": {\"\\uad6d\\uc5b4\": 73, \"\\uc601\\uc5b4\": 91, \"\\uc218\\ud559\": 22, \"\\uacfc\\ud559\": 90}, \"\\uc774\\uc9c0\\uc218\": {\"\\uad6d\\uc5b4\": 60, \"\\uc601\\uc5b4\": 24, \"\\uc218\\ud559\": 20, \"\\uacfc\\ud559\": 62}, \"\\ud0dc\\uc740\\ucc44\": {\"\\uad6d\\uc5b4\": 86, \"\\uc601\\uc5b4\": 23, \"\\uc218\\ud559\": 95, \"\\uacfc\\ud559\": 60}, \"\\uc815\\uc544\\uc724\": {\"\\uad6d\\uc5b4\": 62, \"\\uc601\\uc5b4\": 97, \"\\uc218\\ud559\": 31, \"\\uacfc\\ud559\": 83}, \"\\ubc15\\uc8fc\\ud558\": {\"\\uad6d\\uc5b4\": 70, \"\\uc601\\uc5b4\": 21, \"\\uc218\\ud559\": 22, \"\\uacfc\\ud559\": 71}, \"\\uc774\\uc2b9\\uc544\": {\"\\uad6d\\uc5b4\": 61, \"\\uc601\\uc5b4\": 80, \"\\uc218\\ud559\": 45, \"\\uacfc\\ud559\": 85}, \"\\uc815\\ucc44\\uc544\": {\"\\uad6d\\uc5b4\": 71, \"\\uc601\\uc5b4\": 53, \"\\uc218\\ud559\": 82, \"\\uacfc\\ud559\": 68}, \"\\uc815\\uc18c\\ubbfc\": {\"\\uad6d\\uc5b4\": 63, \"\\uc601\\uc5b4\": 72, \"\\uc218\\ud559\": 33, \"\\uacfc\\ud559\": 97}, \"\\uc774\\uc11c\\ud76c\": {\"\\uad6d\\uc5b4\": 87, \"\\uc601\\uc5b4\": 53, \"\\uc218\\ud559\": 81, \"\\uacfc\\ud559\": 80}, \"\\ud0dc\\ub098\\ud604\": {\"\\uad6d\\uc5b4\": 88, \"\\uc601\\uc5b4\": 38, \"\\uc218\\ud559\": 46, \"\\uacfc\\ud559\": 77}, \"\\uae40\\ub2e4\\uc724\": {\"\\uad6d\\uc5b4\": 77, \"\\uc601\\uc5b4\": 52, \"\\uc218\\ud559\": 50, \"\\uacfc\\ud559\": 92}, \"\\uc774\\ubbfc\\uc544\": {\"\\uad6d\\uc5b4\": 98, \"\\uc601\\uc5b4\": 71, \"\\uc218\\ud559\": 43, \"\\uacfc\\ud559\": 68}, \"\\uc815\\ucc44\\ub9b0\": {\"\\uad6d\\uc5b4\": 52, \"\\uc601\\uc5b4\": 53, \"\\uc218\\ud559\": 36, \"\\uacfc\\ud559\": 90}, \"\\uc774\\ud558\\uc601\": {\"\\uad6d\\uc5b4\": 94, \"\\uc601\\uc5b4\": 47, \"\\uc218\\ud559\": 84, \"\\uacfc\\ud559\": 78}, \"\\uc774\\uc138\\uc740\": {\"\\uad6d\\uc5b4\": 62, \"\\uc601\\uc5b4\": 86, \"\\uc218\\ud559\": 42, \"\\uacfc\\ud559\": 90}, \"\\ud0dc\\ub3c4\\uc5f0\": {\"\\uad6d\\uc5b4\": 89, \"\\uc601\\uc5b4\": 56, \"\\uc218\\ud559\": 60, \"\\uacfc\\ud559\": 99}, \"\\uc774\\uaddc\\ub9ac\": {\"\\uad6d\\uc5b4\": 82, \"\\uc601\\uc5b4\": 87, \"\\uc218\\ud559\": 75, \"\\uacfc\\ud559\": 92}, \"\\uc815\\uc544\\uc601\": {\"\\uad6d\\uc5b4\": 86, \"\\uc601\\uc5b4\": 79, \"\\uc218\\ud559\": 34, \"\\uacfc\\ud559\": 81}, \"\\uc815\\uc138\\uc544\": {\"\\uad6d\\uc5b4\": 92, \"\\uc601\\uc5b4\": 99, \"\\uc218\\ud559\": 92, \"\\uacfc\\ud559\": 92}, \"\\uae40\\uc9c0\\uc5f0\": {\"\\uad6d\\uc5b4\": 69, \"\\uc601\\uc5b4\": 61, \"\\uc218\\ud559\": 15, \"\\uacfc\\ud559\": 76}, \"\\ud0dc\\uc608\\ub9bc\": {\"\\uad6d\\uc5b4\": 96, \"\\uc601\\uc5b4\": 24, \"\\uc218\\ud559\": 23, \"\\uacfc\\ud559\": 85}, \"\\uc815\\uac00\\uc724\": {\"\\uad6d\\uc5b4\": 69, \"\\uc601\\uc5b4\": 36, \"\\uc218\\ud559\": 26, \"\\uacfc\\ud559\": 63}, \"\\uc815\\ub2e4\\uc628\": {\"\\uad6d\\uc5b4\": 95, \"\\uc601\\uc5b4\": 73, \"\\uc218\\ud559\": 19, \"\\uacfc\\ud559\": 68}, \"\\uc774\\ud0dc\\ud76c\": {\"\\uad6d\\uc5b4\": 86, \"\\uc601\\uc5b4\": 54, \"\\uc218\\ud559\": 94, \"\\uacfc\\ud559\": 62}, \"\\uc774\\ubbfc\\ucc44\": {\"\\uad6d\\uc5b4\": 85, \"\\uc601\\uc5b4\": 97, \"\\uc218\\ud559\": 38, \"\\uacfc\\ud559\": 69}}\n"
          ],
          "name": "stdout"
        }
      ]
    },
    {
      "cell_type": "markdown",
      "metadata": {
        "id": "HcaBAZfofw04"
      },
      "source": [
        "**11. 파이썬 오브젝트를 json 텍스트로 변환**"
      ]
    },
    {
      "cell_type": "code",
      "metadata": {
        "id": "m32C18N9fbbX"
      },
      "source": [
        "import json\r\n",
        "person_dict = {}\r\n",
        "\r\n",
        "with open('student.txt', 'r', encoding='euc-kr') as fr:\r\n",
        "  for line in fr:\r\n",
        "    data = line.strip().split(';') #불필요 공백 제거 후 문자로 문자열 분리\r\n",
        "    name = data[0] #이름\r\n",
        "\r\n",
        "    # kor, eng, mat, sci = int(data[1]), int(data[2]), int(data[3]), int(data[4])\r\n",
        "    kor, eng, mat, sci = (int(x) for x in data[1:])\r\n",
        "    person_dict[name] = {'국어':kor, '영어':eng, '수학':mat, '과학':sci}\r\n",
        "\r\n",
        "json_data = json.dumps(person_dict, ensure_ascii=False, indent=4) #한글 보존, indent 추가\r\n",
        "print(json_data)"
      ],
      "execution_count": null,
      "outputs": []
    },
    {
      "cell_type": "markdown",
      "metadata": {
        "id": "O1mnAj-rf2vC"
      },
      "source": [
        "**12. json 텍스트를 파이썬 오브젝트로 변환**\r\n",
        " - ''.join( list ) : 리스트에서 문자열으로"
      ]
    },
    {
      "cell_type": "code",
      "metadata": {
        "id": "_elQ1GRYf8ct"
      },
      "source": [
        "with open('student_json', 'r', encoding=\"UTF-8-sig\") as fr:\r\n",
        "  json_data = json.load(fr) #파일에 저장된 JSON 텍스트를 파이썬 오브젝트로 변환\r\n",
        "print(json_data['태서연'])\r\n",
        "\r\n",
        "with open('student_json', 'r', encoding=\"UTF-8-sig\") as fr:\r\n",
        "  json_text = ''.join(fr.readlines())\r\n",
        "\r\n",
        "json_data = json.loads(json_text) #JSON 형태의 텍스트를 파이썬 오브젝트로 변환\r\n",
        "print(json_data[\"태서연\"])"
      ],
      "execution_count": null,
      "outputs": []
    },
    {
      "cell_type": "markdown",
      "metadata": {
        "id": "q1GZDlkzlo7v"
      },
      "source": [
        "**13. pickle 데이터 직렬화 저장 로딩**"
      ]
    },
    {
      "cell_type": "markdown",
      "metadata": {
        "id": "Tk-k51pim6LC"
      },
      "source": [
        "텍스트 상태의 데이터가 아닌 파이썬 객체 자체를 파일로 저장하는 것 입니다.\r\n",
        "\r\n",
        "\r\n",
        "\r\n",
        "\r\n",
        "\r\n",
        "**그러면 무엇이 좋나요?**\r\n",
        "\r\n",
        "\r\n",
        "\r\n",
        "만약 우리가 10GB 짜리 raw text 파일을 파싱하여 필요한 부분을 빼내서 사용한다고 해봅시다\r\n",
        "\r\n",
        "\r\n",
        "\r\n",
        "raw text 에 있는 내용을 프로그램을 돌릴 때 마다 파싱하여 필요한 부분을 뺀다면 비효율 적이겠죠?\r\n",
        "\r\n",
        "\r\n",
        "\r\n",
        "그래서 미리 필요한 부분을 딕셔너리 던, 리스트 던, 튜플 이던 저장을 해놓는 것 입니다..\r\n",
        "\r\n",
        "\r\n",
        "\r\n",
        "근데 문자열이 아닌 객체를 파일에 쓸 수 없기에,\r\n",
        "\r\n",
        "\r\n",
        "\r\n",
        "pickle 모듈을 활용해 그 객체 자체를 바이너리로 저장하는 것 입니다 !! ㅎㅎ\r\n",
        "\r\n",
        "\r\n",
        "\r\n",
        "\r\n",
        "\r\n",
        "그럼 pickle 모듈로 저장된 파일을 그냥 불러오기만 하면 되기에 속도도 훨씬 빠르겠지요\r\n",
        "\r\n",
        "\r\n",
        "\r\n",
        "출처: https://korbillgates.tistory.com/173 [생물정보학자의 블로그]"
      ]
    },
    {
      "cell_type": "code",
      "metadata": {
        "id": "bM4b6QiAi7wC"
      },
      "source": [
        "import json\r\n",
        "import pickle\r\n",
        "\r\n",
        "with open ('student_json', 'r', encoding='UTF-8-sig') as fr:\r\n",
        "  json_data = json.load(fr)\r\n",
        "\r\n",
        "with open ('student_pickle', 'wb') as fw:\r\n",
        "  pickle.dump(json_data, fw)\r\n",
        "\r\n",
        "with open ('student_pickle', 'rb') as fr:\r\n",
        "  pickle_data = pickle.load(fr)\r\n",
        "\r\n",
        "print(pickle_data['태서연'])"
      ],
      "execution_count": null,
      "outputs": []
    },
    {
      "cell_type": "markdown",
      "metadata": {
        "id": "HeQfHuCknTGG"
      },
      "source": [
        "**<스스로>14. 서울시 인구 통계 분석(실습)**\r\n",
        "- seoul_people_report (CSV) 파일을 기반으로 구명을 key 값을 가지는 딕셔너리로 변경\r\n",
        "\r\n",
        "- 구별 '외국인 비율', '6 세이상고령자 비율' 을 계산 후 각각 key( 외국인비율 , 고령자비율에 저장"
      ]
    }
  ]
}