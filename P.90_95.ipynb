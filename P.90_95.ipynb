{
  "nbformat": 4,
  "nbformat_minor": 0,
  "metadata": {
    "colab": {
      "name": "Untitled0.ipynb",
      "provenance": [],
      "authorship_tag": "ABX9TyNGd1J6jXJXuWw0g8ccvguR",
      "include_colab_link": true
    },
    "kernelspec": {
      "name": "python3",
      "display_name": "Python 3"
    }
  },
  "cells": [
    {
      "cell_type": "markdown",
      "metadata": {
        "id": "view-in-github",
        "colab_type": "text"
      },
      "source": [
        "<a href=\"https://colab.research.google.com/github/SWeat-python-weekend-study/YEJINLEE/blob/lesson2-2/P.90_95.ipynb\" target=\"_parent\"><img src=\"https://colab.research.google.com/assets/colab-badge.svg\" alt=\"Open In Colab\"/></a>"
      ]
    },
    {
      "cell_type": "code",
      "metadata": {
        "id": "m2r3MW8DiYx0"
      },
      "source": [
        "import pandas as pd"
      ],
      "execution_count": 9,
      "outputs": []
    },
    {
      "cell_type": "code",
      "metadata": {
        "colab": {
          "base_uri": "https://localhost:8080/"
        },
        "id": "oo_VlukCioIk",
        "outputId": "060178d6-d6b8-47e3-d21a-06982b3ab0fd"
      },
      "source": [
        "fifa2019 = pd.read_csv('./fifa2019.csv')        # fifa2019.csv 파일의 데이터 불러오기\r\n",
        "\r\n",
        "print(fifa2019.shape)                         # 출력하기\r\n"
      ],
      "execution_count": 15,
      "outputs": [
        {
          "output_type": "stream",
          "text": [
            "(18207, 89)\n"
          ],
          "name": "stdout"
        }
      ]
    },
    {
      "cell_type": "code",
      "metadata": {
        "id": "cdBEO1TNjEFJ",
        "colab": {
          "base_uri": "https://localhost:8080/"
        },
        "outputId": "76185317-2a8e-4391-c350-134f3bc8e81c"
      },
      "source": [
        "print(fifa2019.info())"
      ],
      "execution_count": 16,
      "outputs": [
        {
          "output_type": "stream",
          "text": [
            "<class 'pandas.core.frame.DataFrame'>\n",
            "RangeIndex: 18207 entries, 0 to 18206\n",
            "Data columns (total 89 columns):\n",
            " #   Column                    Non-Null Count  Dtype  \n",
            "---  ------                    --------------  -----  \n",
            " 0   Unnamed: 0                18207 non-null  int64  \n",
            " 1   ID                        18207 non-null  int64  \n",
            " 2   Name                      18207 non-null  object \n",
            " 3   Age                       18207 non-null  int64  \n",
            " 4   Photo                     18207 non-null  object \n",
            " 5   Nationality               18207 non-null  object \n",
            " 6   Flag                      18207 non-null  object \n",
            " 7   Overall                   18207 non-null  int64  \n",
            " 8   Potential                 18207 non-null  int64  \n",
            " 9   Club                      17966 non-null  object \n",
            " 10  Club Logo                 18207 non-null  object \n",
            " 11  Value                     18207 non-null  object \n",
            " 12  Wage                      18207 non-null  object \n",
            " 13  Special                   18207 non-null  int64  \n",
            " 14  Preferred Foot            18159 non-null  object \n",
            " 15  International Reputation  18159 non-null  float64\n",
            " 16  Weak Foot                 18159 non-null  float64\n",
            " 17  Skill Moves               18159 non-null  float64\n",
            " 18  Work Rate                 18159 non-null  object \n",
            " 19  Body Type                 18159 non-null  object \n",
            " 20  Real Face                 18159 non-null  object \n",
            " 21  Position                  18147 non-null  object \n",
            " 22  Jersey Number             18147 non-null  float64\n",
            " 23  Joined                    16654 non-null  object \n",
            " 24  Loaned From               1264 non-null   object \n",
            " 25  Contract Valid Until      17918 non-null  object \n",
            " 26  Height                    18159 non-null  object \n",
            " 27  Weight                    18159 non-null  object \n",
            " 28  LS                        16122 non-null  object \n",
            " 29  ST                        16122 non-null  object \n",
            " 30  RS                        16122 non-null  object \n",
            " 31  LW                        16122 non-null  object \n",
            " 32  LF                        16122 non-null  object \n",
            " 33  CF                        16122 non-null  object \n",
            " 34  RF                        16122 non-null  object \n",
            " 35  RW                        16122 non-null  object \n",
            " 36  LAM                       16122 non-null  object \n",
            " 37  CAM                       16122 non-null  object \n",
            " 38  RAM                       16122 non-null  object \n",
            " 39  LM                        16122 non-null  object \n",
            " 40  LCM                       16122 non-null  object \n",
            " 41  CM                        16122 non-null  object \n",
            " 42  RCM                       16122 non-null  object \n",
            " 43  RM                        16122 non-null  object \n",
            " 44  LWB                       16122 non-null  object \n",
            " 45  LDM                       16122 non-null  object \n",
            " 46  CDM                       16122 non-null  object \n",
            " 47  RDM                       16122 non-null  object \n",
            " 48  RWB                       16122 non-null  object \n",
            " 49  LB                        16122 non-null  object \n",
            " 50  LCB                       16122 non-null  object \n",
            " 51  CB                        16122 non-null  object \n",
            " 52  RCB                       16122 non-null  object \n",
            " 53  RB                        16122 non-null  object \n",
            " 54  Crossing                  18159 non-null  float64\n",
            " 55  Finishing                 18159 non-null  float64\n",
            " 56  HeadingAccuracy           18159 non-null  float64\n",
            " 57  ShortPassing              18159 non-null  float64\n",
            " 58  Volleys                   18159 non-null  float64\n",
            " 59  Dribbling                 18159 non-null  float64\n",
            " 60  Curve                     18159 non-null  float64\n",
            " 61  FKAccuracy                18159 non-null  float64\n",
            " 62  LongPassing               18159 non-null  float64\n",
            " 63  BallControl               18159 non-null  float64\n",
            " 64  Acceleration              18159 non-null  float64\n",
            " 65  SprintSpeed               18159 non-null  float64\n",
            " 66  Agility                   18159 non-null  float64\n",
            " 67  Reactions                 18159 non-null  float64\n",
            " 68  Balance                   18159 non-null  float64\n",
            " 69  ShotPower                 18159 non-null  float64\n",
            " 70  Jumping                   18159 non-null  float64\n",
            " 71  Stamina                   18159 non-null  float64\n",
            " 72  Strength                  18159 non-null  float64\n",
            " 73  LongShots                 18159 non-null  float64\n",
            " 74  Aggression                18159 non-null  float64\n",
            " 75  Interceptions             18159 non-null  float64\n",
            " 76  Positioning               18159 non-null  float64\n",
            " 77  Vision                    18159 non-null  float64\n",
            " 78  Penalties                 18159 non-null  float64\n",
            " 79  Composure                 18159 non-null  float64\n",
            " 80  Marking                   18159 non-null  float64\n",
            " 81  StandingTackle            18159 non-null  float64\n",
            " 82  SlidingTackle             18159 non-null  float64\n",
            " 83  GKDiving                  18159 non-null  float64\n",
            " 84  GKHandling                18159 non-null  float64\n",
            " 85  GKKicking                 18159 non-null  float64\n",
            " 86  GKPositioning             18159 non-null  float64\n",
            " 87  GKReflexes                18159 non-null  float64\n",
            " 88  Release Clause            16643 non-null  object \n",
            "dtypes: float64(38), int64(6), object(45)\n",
            "memory usage: 12.4+ MB\n",
            "None\n"
          ],
          "name": "stdout"
        }
      ]
    },
    {
      "cell_type": "code",
      "metadata": {
        "id": "jeq0BQbRjHyn",
        "colab": {
          "base_uri": "https://localhost:8080/"
        },
        "outputId": "23455e09-8a8b-4a47-b54d-ffe77df7dbb2"
      },
      "source": [
        "sub1=fifa2019.loc[14]\r\n",
        "print(sub1)"
      ],
      "execution_count": 17,
      "outputs": [
        {
          "output_type": "stream",
          "text": [
            "Unnamed: 0                                                    14\n",
            "ID                                                        215914\n",
            "Name                                                    N. Kanté\n",
            "Age                                                           27\n",
            "Photo             https://cdn.sofifa.org/players/4/19/215914.png\n",
            "                                       ...                      \n",
            "GKHandling                                                    12\n",
            "GKKicking                                                     10\n",
            "GKPositioning                                                  7\n",
            "GKReflexes                                                    10\n",
            "Release Clause                                           €121.3M\n",
            "Name: 14, Length: 89, dtype: object\n"
          ],
          "name": "stdout"
        }
      ]
    },
    {
      "cell_type": "code",
      "metadata": {
        "colab": {
          "base_uri": "https://localhost:8080/"
        },
        "id": "wYyoohKskvME",
        "outputId": "2a3ff1bf-790e-4981-e54d-f5170f54b982"
      },
      "source": [
        "sub2=fifa2019.loc[2:16]\r\n",
        "print(sub2)"
      ],
      "execution_count": 18,
      "outputs": [
        {
          "output_type": "stream",
          "text": [
            "    Unnamed: 0      ID  ... GKReflexes  Release Clause\n",
            "2            2  190871  ...       11.0         €228.1M\n",
            "3            3  193080  ...       94.0         €138.6M\n",
            "4            4  192985  ...       13.0         €196.4M\n",
            "5            5  183277  ...        8.0         €172.1M\n",
            "6            6  177003  ...        9.0         €137.4M\n",
            "7            7  176580  ...       37.0           €164M\n",
            "8            8  155862  ...       11.0         €104.6M\n",
            "9            9  200389  ...       89.0         €144.5M\n",
            "10          10  188545  ...       10.0         €127.1M\n",
            "11          11  182521  ...       10.0         €156.8M\n",
            "12          12  182493  ...       15.0          €90.2M\n",
            "13          13  168542  ...       12.0           €111M\n",
            "14          14  215914  ...       10.0         €121.3M\n",
            "15          15  211110  ...        8.0         €153.5M\n",
            "16          16  202126  ...       11.0         €160.7M\n",
            "\n",
            "[15 rows x 89 columns]\n"
          ],
          "name": "stdout"
        }
      ]
    },
    {
      "cell_type": "code",
      "metadata": {
        "colab": {
          "base_uri": "https://localhost:8080/"
        },
        "id": "FWhYUqGZk0HO",
        "outputId": "541ba698-0c07-4293-868b-6902184813cb"
      },
      "source": [
        "sub3=fifa2019.loc[:,[\"Name\",\"Preferred Foot\"]]\r\n",
        "print(sub3)"
      ],
      "execution_count": 19,
      "outputs": [
        {
          "output_type": "stream",
          "text": [
            "                     Name Preferred Foot\n",
            "0                L. Messi           Left\n",
            "1       Cristiano Ronaldo          Right\n",
            "2               Neymar Jr          Right\n",
            "3                  De Gea          Right\n",
            "4            K. De Bruyne          Right\n",
            "...                   ...            ...\n",
            "18202        J. Lundstram          Right\n",
            "18203  N. Christoffersson          Right\n",
            "18204           B. Worman          Right\n",
            "18205      D. Walker-Rice          Right\n",
            "18206           G. Nugent          Right\n",
            "\n",
            "[18207 rows x 2 columns]\n"
          ],
          "name": "stdout"
        }
      ]
    },
    {
      "cell_type": "code",
      "metadata": {
        "colab": {
          "base_uri": "https://localhost:8080/"
        },
        "id": "k_mo_dGXk9RP",
        "outputId": "50e959ae-7605-44f0-9aeb-cc82fbbb771b"
      },
      "source": [
        "sub4=fifa2019.iloc[0:10,1:3]\r\n",
        "print(sub4)"
      ],
      "execution_count": 20,
      "outputs": [
        {
          "output_type": "stream",
          "text": [
            "       ID               Name\n",
            "0  158023           L. Messi\n",
            "1   20801  Cristiano Ronaldo\n",
            "2  190871          Neymar Jr\n",
            "3  193080             De Gea\n",
            "4  192985       K. De Bruyne\n",
            "5  183277          E. Hazard\n",
            "6  177003          L. Modrić\n",
            "7  176580          L. Suárez\n",
            "8  155862       Sergio Ramos\n",
            "9  200389           J. Oblak\n"
          ],
          "name": "stdout"
        }
      ]
    },
    {
      "cell_type": "code",
      "metadata": {
        "colab": {
          "base_uri": "https://localhost:8080/"
        },
        "id": "k2EkilDOlD0P",
        "outputId": "738a5f18-5bda-4f5d-a014-51cc27e35a88"
      },
      "source": [
        "korea_player=fifa2019[\"Nationality\"]==\"Korea Republic\"\r\n",
        "sub5=fifa2019.loc[korea_player]\r\n",
        "print(korea_player)\r\n",
        "print(sub5)"
      ],
      "execution_count": 22,
      "outputs": [
        {
          "output_type": "stream",
          "text": [
            "0        False\n",
            "1        False\n",
            "2        False\n",
            "3        False\n",
            "4        False\n",
            "         ...  \n",
            "18202    False\n",
            "18203    False\n",
            "18204    False\n",
            "18205    False\n",
            "18206    False\n",
            "Name: Nationality, Length: 18207, dtype: bool\n",
            "       Unnamed: 0      ID  ... GKReflexes  Release Clause\n",
            "125           125  200104  ...       10.0          €71.2M\n",
            "1295         1295  180283  ...       10.0          €14.3M\n",
            "1407         1407  182152  ...        9.0          €12.8M\n",
            "2002         2002  211927  ...        8.0          €17.6M\n",
            "2021         2021  221671  ...        8.0          €13.8M\n",
            "...           ...     ...  ...        ...             ...\n",
            "17955       17955  240272  ...       12.0            €73K\n",
            "17959       17959  245401  ...       12.0            €73K\n",
            "17965       17965  243359  ...       11.0           €131K\n",
            "18058       18058  244108  ...       10.0           €104K\n",
            "18084       18084  244411  ...        5.0            €73K\n",
            "\n",
            "[335 rows x 89 columns]\n"
          ],
          "name": "stdout"
        }
      ]
    },
    {
      "cell_type": "code",
      "metadata": {
        "colab": {
          "base_uri": "https://localhost:8080/"
        },
        "id": "gwUMCI_xlQUO",
        "outputId": "eff2ffcb-d933-40bf-b624-1403cca98581"
      },
      "source": [
        "sub6=sub5[\"Name\"]\r\n",
        "print(sub6)"
      ],
      "execution_count": 23,
      "outputs": [
        {
          "output_type": "stream",
          "text": [
            "125               H. Son\n",
            "1295       Ki Sung Yueng\n",
            "1407        Koo Ja Cheol\n",
            "2002     Kwon Chang Hoon\n",
            "2021        Lee Jae Sung\n",
            "              ...       \n",
            "17955     Min Gyeong Min\n",
            "17959       Lee Dong Hee\n",
            "17965       Kim Jong Jin\n",
            "18058    Hong Hyeon Seok\n",
            "18084        Kwon Ki Pyo\n",
            "Name: Name, Length: 335, dtype: object\n"
          ],
          "name": "stdout"
        }
      ]
    }
  ]
}